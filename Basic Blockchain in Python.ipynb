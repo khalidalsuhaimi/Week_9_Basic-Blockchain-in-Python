{
 "cells": [
  {
   "cell_type": "code",
   "execution_count": 1,
   "id": "e29bb76f-85a3-498b-b800-5b46fef121ed",
   "metadata": {},
   "outputs": [],
   "source": [
    "import json\n",
    "import hashlib\n",
    "import time"
   ]
  },
  {
   "cell_type": "code",
   "execution_count": 2,
   "id": "b681bfd8-67d8-43b2-9e19-e23053c003ac",
   "metadata": {},
   "outputs": [],
   "source": [
    "tx_1 = {\n",
    "   \"addr_from\": \"3J98t1WpEZ73CNmQviecrnyiWrnqRhWNLy\",\n",
    "   \"addr_to\": \"1BvBMSEYstWetqTFn5Au4m4GFg7xJaNVN2\",   \n",
    "   \"amount\": 88.00\n",
    "}\n",
    "\n",
    "tx_2 = {\n",
    "   \"addr_from\": \"1BvBMSEYstWetqTFn5Au4m4GFg7xJaNVN2\",\n",
    "   \"addr_to\": \"3J98t1WpEZ73CNmQviecrnyiWrnqRhWNLy\",   \n",
    "   \"amount\": 88.00\n",
    "}\n",
    "tx_3 = {\n",
    "   \"addr_from\": \"FintechStudentAddr\",\n",
    "   \"addr_to\": \"BlackBelts\",   \n",
    "   \"amount\": 8888.00\n",
    "}"
   ]
  },
  {
   "cell_type": "code",
   "execution_count": 3,
   "id": "206ce6b6-c843-425b-aed2-7124022d70ce",
   "metadata": {},
   "outputs": [],
   "source": [
    "class Block():\n",
    "    def __init__(self,\n",
    "                 index:int = 0,\n",
    "                 transactions:list = [],\n",
    "                 timestamp:int = 0,\n",
    "                 cur_hash:str = \"\",\n",
    "                 previous_hash:str = \"\",\n",
    "                 nonce:int = 0):\n",
    "        \n",
    "        self.index:int = index\n",
    "        self.transactions:list = transactions\n",
    "        self.timestamp = timestamp\n",
    "        self.hash:str = cur_hash\n",
    "        self.previous_hash:str = previous_hash\n",
    "        self.nonce:int = nonce\n",
    "            \n",
    "    def compute_hash(self) -> str:\n",
    "        block_string = json.dumps(self.__dict__, sort_keys=True)\n",
    "        return hashlib.sha256(block_string.encode()).hexdigest()"
   ]
  },
  {
   "cell_type": "code",
   "execution_count": 4,
   "id": "8f91f1e3-ad60-4585-8204-118822c717b6",
   "metadata": {},
   "outputs": [],
   "source": [
    "class Blockchain():     \n",
    "    def __init__(self):\n",
    "        self.unconfirmed_transactions:List[dict] = []  #mem-pool\n",
    "        self.chain:List[Block] = []\n",
    "        self.difficulty:int = 2\n",
    "        self.create_genesis_block()\n",
    "   \n",
    "    def get_last_block(self) -> Block:\n",
    "        return self.chain[-1]\n",
    "    \n",
    "    def create_genesis_block(self):\n",
    "        genesis_block = Block(index=0, transactions=[], timestamp=time.time(), previous_hash=\"0\")  \n",
    "        genesis_block.hash = genesis_block.compute_hash()\n",
    "        self.chain.append(genesis_block)\n",
    "        \n",
    "    def proof_of_work(self, block:Block) -> str:\n",
    "        computed_hash = block.compute_hash()\n",
    "        while not computed_hash.startswith('0' * self.difficulty):\n",
    "            block.nonce += 1\n",
    "            computed_hash = block.compute_hash()\n",
    "        return computed_hash\n",
    "        \n",
    "    def is_valid_proof(self, block:Block, block_hash:str) -> bool:\n",
    "        return block_hash.startswith('0' * self.difficulty) and block_hash == block.compute_hash()\n",
    "   \n",
    "    def add_block(self, block:Block, proof:str) -> bool:\n",
    "        last_block = self.get_last_block()\n",
    "        last_block.hash\n",
    "        \n",
    "        if last_block.hash != block.previous_hash:\n",
    "            return False\n",
    "        \n",
    "        if not self.is_valid_proof(block , proof):\n",
    "            return False \n",
    "    \n",
    "        block.hash = proof\n",
    "        self.chain.append(block)\n",
    "        \n",
    "        return True\n",
    "        \n",
    "        \n",
    "    def add_new_transaction(self, transaction:dict) -> None:\n",
    "        self.unconfirmed_transactions.append(transaction)\n",
    "        \n",
    "\n",
    "    def mine(self) -> int:\n",
    "        if len(self.unconfirmed_transactions)<1:\n",
    "            return -1\n",
    "        \n",
    "        last_block = self.get_last_block()\n",
    "#        self.unconfirmed_transactions.append(tx_1)#just for testing purposes.\n",
    "        \n",
    "        new_block = Block(index=last_block.index + 1,\n",
    "                         transactions=self.unconfirmed_transactions,\n",
    "                         timestamp=int(time.time()),\n",
    "                         previous_hash=last_block.hash)\n",
    " \n",
    "        proof = self.proof_of_work(new_block)\n",
    "    \n",
    "        self.add_block(new_block ,proof)\n",
    "        \n",
    "        self.unconfirmed_transactions = []\n",
    "        \n",
    "        return new_block.index"
   ]
  },
  {
   "cell_type": "code",
   "execution_count": 5,
   "id": "aeb8bf6b-3b73-46df-96b1-479749276ae8",
   "metadata": {},
   "outputs": [
    {
     "data": {
      "text/plain": [
       "[None, None, None]"
      ]
     },
     "execution_count": 5,
     "metadata": {},
     "output_type": "execute_result"
    }
   ],
   "source": [
    "bc = Blockchain()\n",
    "[bc.add_new_transaction(tx) for tx in [tx_1,tx_2,tx_3]]"
   ]
  },
  {
   "cell_type": "code",
   "execution_count": 6,
   "id": "00b7eca6-17e9-47ba-a00a-7c7cbe6cce0c",
   "metadata": {},
   "outputs": [
    {
     "data": {
      "text/plain": [
       "[{'addr_from': '3J98t1WpEZ73CNmQviecrnyiWrnqRhWNLy',\n",
       "  'addr_to': '1BvBMSEYstWetqTFn5Au4m4GFg7xJaNVN2',\n",
       "  'amount': 88.0},\n",
       " {'addr_from': '1BvBMSEYstWetqTFn5Au4m4GFg7xJaNVN2',\n",
       "  'addr_to': '3J98t1WpEZ73CNmQviecrnyiWrnqRhWNLy',\n",
       "  'amount': 88.0},\n",
       " {'addr_from': 'FintechStudentAddr',\n",
       "  'addr_to': 'BlackBelts',\n",
       "  'amount': 8888.0}]"
      ]
     },
     "execution_count": 6,
     "metadata": {},
     "output_type": "execute_result"
    }
   ],
   "source": [
    "bc.unconfirmed_transactions"
   ]
  },
  {
   "cell_type": "code",
   "execution_count": 7,
   "id": "aa772369-e4bf-45f2-99e5-48c59b77f9d3",
   "metadata": {},
   "outputs": [
    {
     "data": {
      "text/plain": [
       "{'index': 0,\n",
       " 'transactions': [],\n",
       " 'timestamp': 1639250477.160594,\n",
       " 'hash': '2a2cf63bf3bfe570bdc31e350e1225dcdac922fcaa89b1ab1ba4d36337acb22a',\n",
       " 'previous_hash': '0',\n",
       " 'nonce': 0}"
      ]
     },
     "execution_count": 7,
     "metadata": {},
     "output_type": "execute_result"
    }
   ],
   "source": [
    "bc.chain[0].__dict__"
   ]
  },
  {
   "cell_type": "code",
   "execution_count": 8,
   "id": "5cd15e79-d721-4b57-8c88-c3e9fb4b2694",
   "metadata": {},
   "outputs": [
    {
     "data": {
      "text/plain": [
       "{'index': 0,\n",
       " 'transactions': [],\n",
       " 'timestamp': 1639250477.160594,\n",
       " 'hash': '2a2cf63bf3bfe570bdc31e350e1225dcdac922fcaa89b1ab1ba4d36337acb22a',\n",
       " 'previous_hash': '0',\n",
       " 'nonce': 0}"
      ]
     },
     "execution_count": 8,
     "metadata": {},
     "output_type": "execute_result"
    }
   ],
   "source": [
    "bc.get_last_block().__dict__"
   ]
  },
  {
   "cell_type": "code",
   "execution_count": null,
   "id": "b50a3a6a-76f2-4b1b-88d9-b0d4a2f218a9",
   "metadata": {},
   "outputs": [],
   "source": []
  },
  {
   "cell_type": "code",
   "execution_count": 9,
   "id": "8f5bd113-0afb-4467-897d-cddc6a29ec69",
   "metadata": {},
   "outputs": [
    {
     "data": {
      "text/plain": [
       "1"
      ]
     },
     "execution_count": 9,
     "metadata": {},
     "output_type": "execute_result"
    }
   ],
   "source": [
    "bc.mine()"
   ]
  },
  {
   "cell_type": "code",
   "execution_count": 10,
   "id": "b6b00773-f53f-493b-8f11-235d64a06afa",
   "metadata": {},
   "outputs": [
    {
     "data": {
      "text/plain": [
       "{'index': 1,\n",
       " 'transactions': [{'addr_from': '3J98t1WpEZ73CNmQviecrnyiWrnqRhWNLy',\n",
       "   'addr_to': '1BvBMSEYstWetqTFn5Au4m4GFg7xJaNVN2',\n",
       "   'amount': 88.0},\n",
       "  {'addr_from': '1BvBMSEYstWetqTFn5Au4m4GFg7xJaNVN2',\n",
       "   'addr_to': '3J98t1WpEZ73CNmQviecrnyiWrnqRhWNLy',\n",
       "   'amount': 88.0},\n",
       "  {'addr_from': 'FintechStudentAddr',\n",
       "   'addr_to': 'BlackBelts',\n",
       "   'amount': 8888.0}],\n",
       " 'timestamp': 1639250477,\n",
       " 'hash': '00be942486f4afb1d71c1963a828046b6fa68198ae36576620141310ea6a08c5',\n",
       " 'previous_hash': '2a2cf63bf3bfe570bdc31e350e1225dcdac922fcaa89b1ab1ba4d36337acb22a',\n",
       " 'nonce': 496}"
      ]
     },
     "execution_count": 10,
     "metadata": {},
     "output_type": "execute_result"
    }
   ],
   "source": [
    "bc.get_last_block().__dict__"
   ]
  },
  {
   "cell_type": "code",
   "execution_count": 11,
   "id": "37d678e5-eb8c-492e-b4d5-3477771b4e74",
   "metadata": {},
   "outputs": [
    {
     "data": {
      "text/plain": [
       "[None, None, None]"
      ]
     },
     "execution_count": 11,
     "metadata": {},
     "output_type": "execute_result"
    }
   ],
   "source": [
    "[bc.add_new_transaction(tx) for tx in [{\"FintechData1\":\"SomeInsuranceStuff\"},{\"FintechData2\":\"SomeCapitalMarketStuff\"},{\"FintechData3\":\"SomePaymentsStuff\"}]]"
   ]
  },
  {
   "cell_type": "code",
   "execution_count": 12,
   "id": "99ee63af-702c-44d5-893a-2ca99a84bf52",
   "metadata": {},
   "outputs": [
    {
     "data": {
      "text/plain": [
       "[{'FintechData1': 'SomeInsuranceStuff'},\n",
       " {'FintechData2': 'SomeCapitalMarketStuff'},\n",
       " {'FintechData3': 'SomePaymentsStuff'}]"
      ]
     },
     "execution_count": 12,
     "metadata": {},
     "output_type": "execute_result"
    }
   ],
   "source": [
    "bc.unconfirmed_transactions"
   ]
  },
  {
   "cell_type": "code",
   "execution_count": 13,
   "id": "6746ae21-773d-4b6a-a280-dcfc9a74ac2a",
   "metadata": {},
   "outputs": [
    {
     "data": {
      "text/plain": [
       "2"
      ]
     },
     "execution_count": 13,
     "metadata": {},
     "output_type": "execute_result"
    }
   ],
   "source": [
    "bc.mine()"
   ]
  },
  {
   "cell_type": "code",
   "execution_count": 14,
   "id": "421241b4-c9d3-4ad0-8873-f742e8fe5f60",
   "metadata": {},
   "outputs": [
    {
     "data": {
      "text/plain": [
       "{'index': 2,\n",
       " 'transactions': [{'FintechData1': 'SomeInsuranceStuff'},\n",
       "  {'FintechData2': 'SomeCapitalMarketStuff'},\n",
       "  {'FintechData3': 'SomePaymentsStuff'}],\n",
       " 'timestamp': 1639250477,\n",
       " 'hash': '002ac7edd3584c33ca7b668c562bf0a5712bc2c067fc2252a3b9cd2009fc8ce3',\n",
       " 'previous_hash': '00be942486f4afb1d71c1963a828046b6fa68198ae36576620141310ea6a08c5',\n",
       " 'nonce': 162}"
      ]
     },
     "execution_count": 14,
     "metadata": {},
     "output_type": "execute_result"
    }
   ],
   "source": [
    "bc.get_last_block().__dict__"
   ]
  },
  {
   "cell_type": "code",
   "execution_count": 15,
   "id": "efd349f5-febd-4211-ad97-fc6f922a4c65",
   "metadata": {},
   "outputs": [
    {
     "data": {
      "text/plain": [
       "'0267061eb16c636898bb6afeefc4959a18d5210d0415e315d29f2db21d048782'"
      ]
     },
     "execution_count": 15,
     "metadata": {},
     "output_type": "execute_result"
    }
   ],
   "source": [
    "b = Block()\n",
    "b.compute_hash()"
   ]
  },
  {
   "cell_type": "code",
   "execution_count": null,
   "id": "8052082a-6ee9-47da-8eb9-5dff3987a113",
   "metadata": {},
   "outputs": [],
   "source": [
    "\n"
   ]
  },
  {
   "cell_type": "code",
   "execution_count": null,
   "id": "10ae19e3-636a-4cf8-8fb0-916b6121a31a",
   "metadata": {},
   "outputs": [],
   "source": []
  },
  {
   "cell_type": "code",
   "execution_count": null,
   "id": "550dc616-3778-4994-8a92-0900953cd174",
   "metadata": {},
   "outputs": [],
   "source": []
  }
 ],
 "metadata": {
  "kernelspec": {
   "display_name": "Python 3",
   "language": "python",
   "name": "python3"
  },
  "language_info": {
   "codemirror_mode": {
    "name": "ipython",
    "version": 3
   },
   "file_extension": ".py",
   "mimetype": "text/x-python",
   "name": "python",
   "nbconvert_exporter": "python",
   "pygments_lexer": "ipython3",
   "version": "3.8.8"
  }
 },
 "nbformat": 4,
 "nbformat_minor": 5
}
